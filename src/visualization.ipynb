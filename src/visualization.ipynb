{
 "cells": [
  {
   "cell_type": "code",
   "execution_count": null,
   "metadata": {
    "collapsed": false
   },
   "outputs": [],
   "source": [
    "%pylab inline"
   ]
  },
  {
   "cell_type": "code",
   "execution_count": null,
   "metadata": {
    "collapsed": false
   },
   "outputs": [],
   "source": [
    "%%bash\n",
    "rm -rf output\n",
    "mkdir output\n",
    "make \n",
    "./main > /dev/null"
   ]
  },
  {
   "cell_type": "code",
   "execution_count": null,
   "metadata": {
    "collapsed": false
   },
   "outputs": [],
   "source": [
    "def readfile(name):\n",
    "    soln = genfromtxt(name, skip_header=2)\n",
    "    n = sqrt(len(soln))\n",
    "    \n",
    "    soln.shape = (n,n)\n",
    "    \n",
    "    return soln\n",
    "\n",
    "\n",
    "\n",
    "times = genfromtxt(\"output/times.txt\", skip_header=2)\n",
    "\n",
    "for i in range(0,11):\n",
    "    soln = readfile('output/%07d.txt'%i)\n",
    "    figure()\n",
    "    title(times[i])\n",
    "    pcolormesh(soln, vmin=-1, vmax=1)\n",
    "    axis('tight')\n",
    "    colorbar()"
   ]
  }
 ],
 "metadata": {
  "kernelspec": {
   "display_name": "Python 3",
   "language": "python",
   "name": "python3"
  },
  "language_info": {
   "codemirror_mode": {
    "name": "ipython",
    "version": 3
   },
   "file_extension": ".py",
   "mimetype": "text/x-python",
   "name": "python",
   "nbconvert_exporter": "python",
   "pygments_lexer": "ipython3",
   "version": "3.4.3"
  }
 },
 "nbformat": 4,
 "nbformat_minor": 0
}
